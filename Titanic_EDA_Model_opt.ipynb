{
 "cells": [
  {
   "cell_type": "code",
   "execution_count": 5,
   "id": "142a4f57-fdc5-4b2a-b49e-557ee3bb00d9",
   "metadata": {},
   "outputs": [],
   "source": [
    "# 📦 Importation des bibliothèques\n",
    "import os \n",
    "import pandas as pd\n",
    "import numpy as np\n",
    "import seaborn as sns\n",
    "import matplotlib.pyplot as plt\n",
    "os.chdir(\"C:/Users/LENOVO/OneDrive/Bureau/projet/titanic-project\")  # corrigé\n"
   ]
  },
  {
   "cell_type": "code",
   "execution_count": 6,
   "id": "39611795-dbca-43ce-8f35-54b052f80bed",
   "metadata": {},
   "outputs": [],
   "source": [
    "# 📂 Chargement des datasets\n",
    "train_df = pd.read_csv(\"train.csv\")\n",
    "test_df = pd.read_csv(\"test.csv\")\n",
    "\n",
    "# On garde les IDs pour la soumission\n",
    "test_ids = test_df[\"PassengerId\"]\n"
   ]
  },
  {
   "cell_type": "code",
   "execution_count": 7,
   "id": "fb653076-f6f3-4ac0-aafc-4bfd6b164133",
   "metadata": {},
   "outputs": [],
   "source": [
    "# 🛠 Création de nouvelles variables utiles : FamilySize, IsAlone, Title\n",
    "for df in [train_df, test_df]:\n",
    "    df['FamilySize'] = df['SibSp'] + df['Parch'] + 1\n",
    "    df['IsAlone'] = (df['FamilySize'] == 1).astype(int)\n",
    "\n",
    "    # Extraction du titre depuis le nom\n",
    "    df['Title'] = df['Name'].str.extract(' ([A-Za-z]+)\\.', expand=False)\n",
    "    df['Title'] = df['Title'].replace(['Lady','Countess','Capt','Col','Don','Dr','Major',\n",
    "                                       'Rev','Sir','Jonkheer','Dona'], 'Rare')\n",
    "    df['Title'] = df['Title'].replace('Mlle', 'Miss')\n",
    "    df['Title'] = df['Title'].replace('Ms', 'Miss')\n",
    "    df['Title'] = df['Title'].replace('Mme', 'Mrs')\n"
   ]
  },
  {
   "cell_type": "code",
   "execution_count": 8,
   "id": "4566aa14-e78d-4bb6-898e-53ba74515305",
   "metadata": {},
   "outputs": [],
   "source": [
    "# 🧹 Suppression des colonnes inutiles\n",
    "train_df = train_df.drop(columns=['Cabin', 'Ticket', 'Name'])\n",
    "test_df = test_df.drop(columns=['Cabin', 'Ticket', 'Name'])\n",
    "\n",
    "# 🧼 Imputation des valeurs manquantes\n",
    "train_df['Age'] = train_df['Age'].fillna(train_df['Age'].median())\n",
    "test_df['Age'] = test_df['Age'].fillna(train_df['Age'].median())\n",
    "\n",
    "train_df['Embarked'] = train_df['Embarked'].fillna(train_df['Embarked'].mode()[0])\n",
    "test_df['Embarked'] = test_df['Embarked'].fillna(train_df['Embarked'].mode()[0])\n",
    "\n",
    "test_df['Fare'] = test_df['Fare'].fillna(train_df['Fare'].median())\n",
    "\n"
   ]
  },
  {
   "cell_type": "code",
   "execution_count": 9,
   "id": "50cae747-e71a-4e21-a520-5189f6159c8b",
   "metadata": {},
   "outputs": [],
   "source": [
    "# 🔢 Encodage de Sex\n",
    "for df in [train_df, test_df]:\n",
    "    df['Sex'] = df['Sex'].map({'female': 0, 'male': 1})\n",
    "\n",
    "# 🧠 One-hot encoding pour Embarked et Title\n",
    "train_df = pd.get_dummies(train_df, columns=['Embarked', 'Title'], drop_first=True)\n",
    "test_df = pd.get_dummies(test_df, columns=['Embarked', 'Title'], drop_first=True)\n"
   ]
  },
  {
   "cell_type": "code",
   "execution_count": 10,
   "id": "1b095544-29cf-4346-9d84-c206a435bc59",
   "metadata": {},
   "outputs": [],
   "source": [
    "# 🔁 S'assurer que train et test ont les mêmes colonnes\n",
    "train_cols = train_df.columns.drop('Survived')\n",
    "test_df = test_df[train_cols]\n"
   ]
  },
  {
   "cell_type": "code",
   "execution_count": 11,
   "id": "12410aff-4db9-4b22-95ef-300f92007b6c",
   "metadata": {},
   "outputs": [],
   "source": [
    "# 🎯 Séparation des features (X) et de la cible (y)\n",
    "X = train_df.drop(columns='Survived')\n",
    "y = train_df['Survived']\n"
   ]
  },
  {
   "cell_type": "code",
   "execution_count": 12,
   "id": "936c5a7d-8634-4b5f-afd9-84eee47734bc",
   "metadata": {},
   "outputs": [
    {
     "name": "stdout",
     "output_type": "stream",
     "text": [
      "🔍 Accuracy sur validation : 0.8212290502793296\n",
      "              precision    recall  f1-score   support\n",
      "\n",
      "           0       0.82      0.89      0.85       105\n",
      "           1       0.82      0.73      0.77        74\n",
      "\n",
      "    accuracy                           0.82       179\n",
      "   macro avg       0.82      0.81      0.81       179\n",
      "weighted avg       0.82      0.82      0.82       179\n",
      "\n"
     ]
    }
   ],
   "source": [
    "from sklearn.ensemble import RandomForestClassifier\n",
    "from sklearn.model_selection import train_test_split\n",
    "from sklearn.metrics import accuracy_score, classification_report\n",
    "\n",
    "# Split train/validation\n",
    "X_train, X_val, y_train, y_val = train_test_split(X, y, test_size=0.2, random_state=42)\n",
    "\n",
    "# Modèle\n",
    "model = RandomForestClassifier(n_estimators=200, max_depth=8, random_state=42)\n",
    "model.fit(X_train, y_train)\n",
    "\n",
    "# Prédictions sur validation\n",
    "y_pred = model.predict(X_val)\n",
    "\n",
    "# Évaluation\n",
    "print(\"🔍 Accuracy sur validation :\", accuracy_score(y_val, y_pred))\n",
    "print(classification_report(y_val, y_pred))\n"
   ]
  },
  {
   "cell_type": "code",
   "execution_count": 13,
   "id": "4a50eac2-552a-400f-9d5b-76ffbb631224",
   "metadata": {},
   "outputs": [],
   "source": [
    "# 🔮 Prédictions sur test.csv\n",
    "final_preds = model.predict(test_df)\n"
   ]
  },
  {
   "cell_type": "code",
   "execution_count": 14,
   "id": "b6406b05-1be5-4412-8405-9c64206b3259",
   "metadata": {},
   "outputs": [
    {
     "name": "stdout",
     "output_type": "stream",
     "text": [
      "✅ Fichier submission.csv généré avec succès.\n"
     ]
    }
   ],
   "source": [
    "# 💾 Création du fichier submission.csv\n",
    "submission = pd.DataFrame({\n",
    "    \"PassengerId\": test_ids,\n",
    "    \"Survived\": final_preds\n",
    "})\n",
    "\n",
    "submission.to_csv(\"submission.csv\", index=False)\n",
    "print(\"✅ Fichier submission.csv généré avec succès.\")\n"
   ]
  },
  {
   "cell_type": "code",
   "execution_count": null,
   "id": "7836ef61-c16a-4eaf-9802-04c1a31e22f2",
   "metadata": {},
   "outputs": [],
   "source": []
  }
 ],
 "metadata": {
  "kernelspec": {
   "display_name": "Python [conda env:base] *",
   "language": "python",
   "name": "conda-base-py"
  },
  "language_info": {
   "codemirror_mode": {
    "name": "ipython",
    "version": 3
   },
   "file_extension": ".py",
   "mimetype": "text/x-python",
   "name": "python",
   "nbconvert_exporter": "python",
   "pygments_lexer": "ipython3",
   "version": "3.13.5"
  }
 },
 "nbformat": 4,
 "nbformat_minor": 5
}
